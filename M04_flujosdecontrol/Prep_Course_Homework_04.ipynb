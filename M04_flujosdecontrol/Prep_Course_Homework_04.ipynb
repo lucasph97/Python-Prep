{
 "cells": [
  {
   "attachments": {},
   "cell_type": "markdown",
   "metadata": {},
   "source": [
    "## Flujos de Control"
   ]
  },
  {
   "attachments": {},
   "cell_type": "markdown",
   "metadata": {},
   "source": [
    "1) Crear una variable que contenga un elemento del conjunto de números enteros y luego imprimir por pantalla si es mayor o menor a cero"
   ]
  },
  {
   "cell_type": "code",
   "execution_count": 10,
   "metadata": {},
   "outputs": [
    {
     "name": "stdout",
     "output_type": "stream",
     "text": [
      "10 es igual a 10\n"
     ]
    }
   ],
   "source": [
    "variable = 10\n",
    "\n",
    "if variable>10:\n",
    "    print(variable, \"es mayor a 10\")\n",
    "elif variable < 10:\n",
    "    print(variable, \"es menor a 10\")\n",
    "else:\n",
    "    print(variable, \"es igual a 10\")"
   ]
  },
  {
   "attachments": {},
   "cell_type": "markdown",
   "metadata": {},
   "source": [
    "2) Crear dos variables y un condicional que informe si son del mismo tipo de dato"
   ]
  },
  {
   "cell_type": "code",
   "execution_count": 15,
   "metadata": {},
   "outputs": [
    {
     "name": "stdout",
     "output_type": "stream",
     "text": [
      "Las variables son del mismo tipo\n",
      "Ambas variables son de tipo <class 'str'>\n"
     ]
    }
   ],
   "source": [
    "variable_1 = \"2\"\n",
    "variable_2 = \"3\"\n",
    "\n",
    "if type(variable_1) == type(variable_2):\n",
    "    print(\"Las variables son del mismo tipo\")\n",
    "    print(\"Ambas variables son de tipo\", type(variable_1))\n",
    "else:\n",
    "    print(\"Las variables no son del mismo tipo\")\n",
    "    print(\"La primera es\", type(variable_1), \"y la segunda\", type(variable_2))"
   ]
  },
  {
   "attachments": {},
   "cell_type": "markdown",
   "metadata": {},
   "source": [
    "3) Para los valores enteros del 1 al 20, imprimir por pantalla si es par o impar"
   ]
  },
  {
   "cell_type": "code",
   "execution_count": 16,
   "metadata": {},
   "outputs": [
    {
     "name": "stdout",
     "output_type": "stream",
     "text": [
      "1 es impar\n",
      "2 es par\n",
      "3 es impar\n",
      "4 es par\n",
      "5 es impar\n",
      "6 es par\n",
      "7 es impar\n",
      "8 es par\n",
      "9 es impar\n",
      "10 es par\n",
      "11 es impar\n",
      "12 es par\n",
      "13 es impar\n",
      "14 es par\n",
      "15 es impar\n",
      "16 es par\n",
      "17 es impar\n",
      "18 es par\n",
      "19 es impar\n",
      "20 es par\n"
     ]
    }
   ],
   "source": [
    "numeros = range(1,21)\n",
    "\n",
    "for num in numeros:\n",
    "    if num%2 == 0:\n",
    "        print(num, \"es par\")\n",
    "    else:\n",
    "        print(num, \"es impar\")\n"
   ]
  },
  {
   "attachments": {},
   "cell_type": "markdown",
   "metadata": {},
   "source": [
    "4) En un ciclo for mostrar para los valores entre 0 y 5 el resultado de elevarlo a la potencia igual a 3"
   ]
  },
  {
   "cell_type": "code",
   "execution_count": 18,
   "metadata": {},
   "outputs": [
    {
     "name": "stdout",
     "output_type": "stream",
     "text": [
      "0 elevado a la potencia 3 es 0\n",
      "1 elevado a la potencia 3 es 1\n",
      "2 elevado a la potencia 3 es 8\n",
      "3 elevado a la potencia 3 es 27\n",
      "4 elevado a la potencia 3 es 64\n",
      "5 elevado a la potencia 3 es 125\n"
     ]
    }
   ],
   "source": [
    "for i in range(6):\n",
    "    print(i, \"elevado a la potencia 3 es\", i**3)\n"
   ]
  },
  {
   "attachments": {},
   "cell_type": "markdown",
   "metadata": {},
   "source": [
    "5) Crear una variable que contenga un número entero y realizar un ciclo for la misma cantidad de ciclos"
   ]
  },
  {
   "cell_type": "code",
   "execution_count": 20,
   "metadata": {},
   "outputs": [
    {
     "name": "stdout",
     "output_type": "stream",
     "text": [
      "1\n",
      "2\n",
      "3\n",
      "4\n",
      "5\n"
     ]
    }
   ],
   "source": [
    "variable = 5\n",
    "for i in range(1, variable + 1):\n",
    "    print(i)"
   ]
  },
  {
   "attachments": {},
   "cell_type": "markdown",
   "metadata": {},
   "source": [
    "6) Utilizar un ciclo while para realizar el factorial de un número guardado en una variable, sólo si la variable contiene un número entero mayor a 0"
   ]
  },
  {
   "cell_type": "code",
   "execution_count": 7,
   "metadata": {},
   "outputs": [
    {
     "name": "stdout",
     "output_type": "stream",
     "text": [
      "El número no es mayor a 0\n"
     ]
    }
   ],
   "source": [
    "variable = -1\n",
    "\n",
    "if type(variable) == int:\n",
    "    if variable > 0:\n",
    "        factorial = variable\n",
    "        temp = variable\n",
    "        while(temp > 2):\n",
    "            temp = temp - 1\n",
    "            factorial = factorial*temp\n",
    "        print(\"El número factorial de\", variable, \"es\", factorial)\n",
    "    else:\n",
    "        print(\"El número no es mayor a 0\")\n",
    "else:\n",
    "    print(\"La variable no es un número entero\")"
   ]
  },
  {
   "attachments": {},
   "cell_type": "markdown",
   "metadata": {},
   "source": [
    "7) Crear un ciclo for dentro de un ciclo while"
   ]
  },
  {
   "cell_type": "code",
   "execution_count": 9,
   "metadata": {},
   "outputs": [
    {
     "name": "stdout",
     "output_type": "stream",
     "text": [
      "9\n",
      "8\n",
      "7\n",
      "6\n",
      "5\n",
      "4\n",
      "3\n",
      "2\n",
      "1\n",
      "0\n",
      "Fin del proceso\n"
     ]
    }
   ],
   "source": [
    "num = 10\n",
    "\n",
    "while num > 0:\n",
    "    for i in range(num):\n",
    "        num-=1\n",
    "        print(num)\n",
    "    print(\"Fin del proceso\")"
   ]
  },
  {
   "attachments": {},
   "cell_type": "markdown",
   "metadata": {},
   "source": [
    "8) Crear un ciclo while dentro de un ciclo for"
   ]
  },
  {
   "cell_type": "code",
   "execution_count": 30,
   "metadata": {},
   "outputs": [],
   "source": [
    "num = 5\n",
    "for i in range(1,num):\n",
    "    while (num < 5):\n",
    "        num-=1\n",
    "        print('Ciclo while nro ' + str(num))\n",
    "        print('Ciclo for nro ' + str(i))\n",
    "\n"
   ]
  },
  {
   "attachments": {},
   "cell_type": "markdown",
   "metadata": {},
   "source": [
    "9) Imprimir los números primos existentes entre 0 y 30"
   ]
  },
  {
   "cell_type": "code",
   "execution_count": 51,
   "metadata": {},
   "outputs": [
    {
     "name": "stdout",
     "output_type": "stream",
     "text": [
      "0 es primo\n",
      "1 es primo\n",
      "2 es primo\n",
      "3 es primo\n",
      "5 es primo\n",
      "7 es primo\n",
      "11 es primo\n",
      "13 es primo\n",
      "17 es primo\n",
      "19 es primo\n",
      "23 es primo\n",
      "29 es primo\n"
     ]
    }
   ],
   "source": [
    "prime = True\n",
    "for numero in range(31):\n",
    "    for i in range(2,numero):\n",
    "        if numero%i == 0:\n",
    "            prime = False\n",
    "    if prime:\n",
    "       print(numero, \"es primo\")\n",
    "    else:\n",
    "       prime = True\n"
   ]
  },
  {
   "attachments": {},
   "cell_type": "markdown",
   "metadata": {},
   "source": [
    "10) ¿Se puede mejorar el proceso del punto 9? Utilizar las sentencias break y/ó continue para tal fin"
   ]
  },
  {
   "cell_type": "code",
   "execution_count": 52,
   "metadata": {},
   "outputs": [
    {
     "name": "stdout",
     "output_type": "stream",
     "text": [
      "0 es primo\n",
      "1 es primo\n",
      "2 es primo\n",
      "3 es primo\n",
      "5 es primo\n",
      "7 es primo\n",
      "11 es primo\n",
      "13 es primo\n",
      "17 es primo\n",
      "19 es primo\n",
      "23 es primo\n",
      "29 es primo\n"
     ]
    }
   ],
   "source": [
    "prime = True\n",
    "for numero in range(31):\n",
    "    for i in range(2,numero):\n",
    "        if numero%i == 0:\n",
    "            prime = False\n",
    "            break\n",
    "    if prime:\n",
    "       print(numero, \"es primo\")\n",
    "    else:\n",
    "       prime = True"
   ]
  },
  {
   "attachments": {},
   "cell_type": "markdown",
   "metadata": {},
   "source": [
    "11) En los puntos 9 y 10, se diseño un código que encuentra números primos y además se lo optimizó. ¿Es posible saber en qué medida se optimizó?"
   ]
  },
  {
   "cell_type": "code",
   "execution_count": 68,
   "metadata": {},
   "outputs": [
    {
     "name": "stdout",
     "output_type": "stream",
     "text": [
      "0 es primo\n",
      "1 es primo\n",
      "2 es primo\n",
      "3 es primo\n",
      "5 es primo\n",
      "7 es primo\n",
      "11 es primo\n",
      "13 es primo\n",
      "17 es primo\n",
      "19 es primo\n",
      "23 es primo\n",
      "29 es primo\n",
      "0 es primo\n",
      "1 es primo\n",
      "2 es primo\n",
      "3 es primo\n",
      "5 es primo\n",
      "7 es primo\n",
      "11 es primo\n",
      "13 es primo\n",
      "17 es primo\n",
      "19 es primo\n",
      "23 es primo\n",
      "29 es primo\n",
      "Sin cortes se realizaron 406 ciclos\n",
      "Con cortes se realizaron 19 ciclos\n",
      "Se redujo la cantidad de ciclos en un 95.32019704433498 %\n"
     ]
    }
   ],
   "source": [
    "ciclos_subop = 0\n",
    "prime = True\n",
    "for numero in range(31):\n",
    "    for i in range(2,numero):\n",
    "        if numero%i == 0:\n",
    "            prime = False\n",
    "        ciclos_subop+=1\n",
    "    if prime:\n",
    "       print(numero, \"es primo\")\n",
    "    else:\n",
    "       prime = True\n",
    "\n",
    "ciclos_op = 0\n",
    "prime = True\n",
    "for numero in range(31):\n",
    "    for i in range(2,numero):\n",
    "        if numero%i == 0:\n",
    "            prime = False\n",
    "            ciclos_op+=1\n",
    "            break\n",
    "    if prime:\n",
    "       print(numero, \"es primo\")\n",
    "    else:\n",
    "       prime = True\n",
    "\n",
    "print(\"Sin cortes se realizaron\", ciclos_subop, \"ciclos\")\n",
    "print(\"Con cortes se realizaron\", ciclos_op, \"ciclos\")\n",
    "print(\"Se redujo la cantidad de ciclos en un\", (1-ciclos_op/ciclos_subop)*100,\"%\")\n"
   ]
  },
  {
   "attachments": {},
   "cell_type": "markdown",
   "metadata": {},
   "source": [
    "12) Aplicando continue, armar un ciclo while que solo imprima los valores divisibles por 12, dentro del rango de números de 100 a 300"
   ]
  },
  {
   "cell_type": "code",
   "execution_count": 74,
   "metadata": {},
   "outputs": [
    {
     "name": "stdout",
     "output_type": "stream",
     "text": [
      "108 es divisible por 12\n",
      "120 es divisible por 12\n",
      "132 es divisible por 12\n",
      "144 es divisible por 12\n",
      "156 es divisible por 12\n",
      "168 es divisible por 12\n",
      "180 es divisible por 12\n",
      "192 es divisible por 12\n",
      "204 es divisible por 12\n",
      "216 es divisible por 12\n",
      "228 es divisible por 12\n",
      "240 es divisible por 12\n",
      "252 es divisible por 12\n",
      "264 es divisible por 12\n",
      "276 es divisible por 12\n",
      "288 es divisible por 12\n",
      "300 es divisible por 12\n"
     ]
    }
   ],
   "source": [
    "numero = 100\n",
    "fin = 300\n",
    "\n",
    "while numero-1<fin:\n",
    "    numero+=1\n",
    "    if numero%12 != 0:\n",
    "        continue\n",
    "    else:\n",
    "        print(numero, \"es divisible por 12\")\n",
    "            "
   ]
  },
  {
   "attachments": {},
   "cell_type": "markdown",
   "metadata": {},
   "source": [
    "13) Utilizar la función **input()** que permite hacer ingresos por teclado, para encontrar números primos y dar la opción al usario de buscar el siguiente"
   ]
  },
  {
   "cell_type": "code",
   "execution_count": 2,
   "metadata": {},
   "outputs": [
    {
     "name": "stdout",
     "output_type": "stream",
     "text": [
      "1 es primo\n",
      "El siguiente número primo es 2\n",
      "El siguiente número primo es 3\n",
      "El siguiente número primo es 5\n",
      "Proceso interrumpido\n"
     ]
    }
   ],
   "source": [
    "cont = 1\n",
    "if cont == 1:\n",
    "    numero = int(input(\"Ingrese un número\"))\n",
    "    prime = True\n",
    "    for i in range(2,numero):\n",
    "        if numero%i == 0:\n",
    "            prime = False\n",
    "            print(numero, \"no es primo\")\n",
    "            break\n",
    "    if prime:\n",
    "        print(numero, \"es primo\")\n",
    "    cont += 1\n",
    "    \n",
    "\n",
    "go_on = input(\"Continuar con el número primo siguiente? (si/no)\")\n",
    "\n",
    "while (go_on.lower() == 'si'):\n",
    "    prime = False\n",
    "    while(prime == False):\n",
    "        numero += 1\n",
    "        prime = True\n",
    "        for i in range(2,numero):\n",
    "            if numero%i == 0:\n",
    "                prime = False\n",
    "                break\n",
    "\n",
    "    print(\"El siguiente número primo es\", numero)\n",
    "    go_on = input(\"Continuar con el número primo siguiente? (si/no)\")\n",
    "\n",
    "if go_on.lower() == 'no':   \n",
    "    print(\"Proceso interrumpido\")\n",
    "\n"
   ]
  },
  {
   "attachments": {},
   "cell_type": "markdown",
   "metadata": {},
   "source": [
    "14) Crear un ciclo while que encuentre dentro del rango de 100 a 300 el primer número divisible por 3 y además múltiplo de 6"
   ]
  },
  {
   "cell_type": "code",
   "execution_count": 21,
   "metadata": {},
   "outputs": [
    {
     "name": "stdout",
     "output_type": "stream",
     "text": [
      "102 es divisible por 3 y múltiplo de 6\n"
     ]
    }
   ],
   "source": [
    "numero = 100\n",
    "fin = 300\n",
    "cont = 0\n",
    "while numero-1<fin and cont == 0:\n",
    "    numero+=1\n",
    "    if numero%3 != 0: # si el resto no es 0, no es divisible por 3\n",
    "        continue# si no se cumple la primer condición, ni siquiera evaluamos la siguiente\n",
    "    else:\n",
    "        div_entero = numero//6 # para ver si es multiplo de 6, dividimos por 6, quedandonos con el entero\n",
    "        if (div_entero*6 == numero): # si el entero por 6 es igual al numero original, \n",
    "                                        # entonces es multiplo de 6\n",
    "            print(numero, \"es divisible por 3 y múltiplo de 6\")\n",
    "            cont +=1\n",
    "            "
   ]
  }
 ],
 "metadata": {
  "interpreter": {
   "hash": "c85384e4cb51c8b72350f3a8712cc8351fdc3955e32a27f9b60c6242ab125f01"
  },
  "kernelspec": {
   "display_name": "Python 3 (ipykernel)",
   "language": "python",
   "name": "python3"
  },
  "language_info": {
   "codemirror_mode": {
    "name": "ipython",
    "version": 3
   },
   "file_extension": ".py",
   "mimetype": "text/x-python",
   "name": "python",
   "nbconvert_exporter": "python",
   "pygments_lexer": "ipython3",
   "version": "3.10.4"
  }
 },
 "nbformat": 4,
 "nbformat_minor": 4
}
