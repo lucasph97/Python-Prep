{
 "cells": [
  {
   "attachments": {},
   "cell_type": "markdown",
   "metadata": {},
   "source": [
    "## Funciones"
   ]
  },
  {
   "attachments": {},
   "cell_type": "markdown",
   "metadata": {},
   "source": [
    "1) Crear una función que reciba un número como parámetro y devuelva True si es primo y False si no lo es"
   ]
  },
  {
   "cell_type": "code",
   "execution_count": 8,
   "metadata": {},
   "outputs": [],
   "source": [
    "def es_primo(numero):\n",
    "    primo = True\n",
    "    if numero > 2:\n",
    "        for i in range(2, numero):\n",
    "            if numero%i == 0:\n",
    "                primo = False\n",
    "                break\n",
    "    return(primo)"
   ]
  },
  {
   "cell_type": "code",
   "execution_count": 17,
   "metadata": {},
   "outputs": [
    {
     "data": {
      "text/plain": [
       "True"
      ]
     },
     "execution_count": 17,
     "metadata": {},
     "output_type": "execute_result"
    }
   ],
   "source": [
    "es_primo(11)"
   ]
  },
  {
   "attachments": {},
   "cell_type": "markdown",
   "metadata": {},
   "source": [
    "2) Utilizando la función del punto 1, realizar otra función que reciba de parámetro una lista de números y devuelva sólo aquellos que son primos en otra lista"
   ]
  },
  {
   "cell_type": "code",
   "execution_count": 20,
   "metadata": {},
   "outputs": [],
   "source": [
    "def numeros_primos(lista_numeros):\n",
    "    lista_numeros_primos = []\n",
    "    for numero in lista_numeros:\n",
    "        primo = True\n",
    "        if numero > 2:\n",
    "            for i in range(2, numero):\n",
    "                if numero%i == 0:\n",
    "                    primo = False\n",
    "                    break\n",
    "        if primo:\n",
    "            lista_numeros_primos.append(lista_numeros[numero])\n",
    "    return(lista_numeros_primos)"
   ]
  },
  {
   "cell_type": "code",
   "execution_count": 29,
   "metadata": {},
   "outputs": [
    {
     "data": {
      "text/plain": [
       "2"
      ]
     },
     "execution_count": 29,
     "metadata": {},
     "output_type": "execute_result"
    }
   ],
   "source": [
    "numeros = [0,1,2,3,4,5,6,7,8,9,10,11,12,13,14,15,16,17,18,19,20]\n",
    "numeros_primos(numeros)\n"
   ]
  },
  {
   "attachments": {},
   "cell_type": "markdown",
   "metadata": {},
   "source": [
    "3) Crear una función que al recibir una lista de números, devuelva el que más se repite y cuántas veces lo hace. Si hay más de un \"más repetido\", que devuelva cualquiera"
   ]
  },
  {
   "cell_type": "code",
   "execution_count": null,
   "metadata": {},
   "outputs": [],
   "source": []
  },
  {
   "cell_type": "code",
   "execution_count": 19,
   "metadata": {},
   "outputs": [
    {
     "name": "stdout",
     "output_type": "stream",
     "text": [
      "El numero más repetido fue 1 que apareció 6 veces\n"
     ]
    },
    {
     "data": {
      "text/plain": [
       "(1, 6)"
      ]
     },
     "execution_count": 19,
     "metadata": {},
     "output_type": "execute_result"
    }
   ],
   "source": [
    "import random\n",
    "import pandas as pd\n",
    "\n",
    "def mas_repetido(lista_numeros):\n",
    "    lista_numeros_unicos = []\n",
    "    lista_numeros_freqs = []\n",
    "\n",
    "    for numero in lista_numeros:    \n",
    "        if numero not in lista_numeros_unicos:\n",
    "            lista_numeros_unicos.append(numero)\n",
    "            \n",
    "            conteo = lista_numeros.count(numero)\n",
    "            lista_numeros_freqs.append(conteo)\n",
    "\n",
    "    max_count = max(lista_numeros_freqs)\n",
    "    if lista_numeros_freqs.count(max_count)>1: \n",
    "        print(\"No hubo un único número que se repitiese más veces que el resto.\")\n",
    "        print(\"La función devolverá un número aleatorio de la lista de números únicos:\")\n",
    "        return random.choice(lista_numeros_unicos)\n",
    "    else:\n",
    "        numero_repetido = lista_numeros_unicos[lista_numeros_freqs.index(max_count)]\n",
    "        print(\"El numero más repetido fue\", numero_repetido, \"que apareció\", max_count, \"veces\")\n",
    "        return numero_repetido, max_count\n",
    "\n",
    "numeros = [1,1,2,2,2,2,2,3,4,5,6,1,1,1,1]\n",
    "mas_repetido(numeros)\n",
    "  "
   ]
  },
  {
   "attachments": {},
   "cell_type": "markdown",
   "metadata": {},
   "source": [
    "4) Crear una función que convierta entre grados Celsius, Farenheit y Kelvin<br>\n",
    "Fórmula 1\t: (°C × 9/5) + 32 = °F<br>\n",
    "Fórmula 2\t: °C + 273.15 = °K<br>\n",
    "Debe recibir 3 parámetros: el valor, la medida de orígen y la medida de destino\n"
   ]
  },
  {
   "cell_type": "code",
   "execution_count": 27,
   "metadata": {},
   "outputs": [
    {
     "name": "stdout",
     "output_type": "stream",
     "text": [
      "El equivalente de 20 grados Celsius son 293.15 grados Kelvin\n"
     ]
    },
    {
     "data": {
      "text/plain": [
       "293.15"
      ]
     },
     "execution_count": 27,
     "metadata": {},
     "output_type": "execute_result"
    }
   ],
   "source": [
    "def convertidor_temp(temperatura, escala_origen = \"C\", escala_destino = \"F\"):\n",
    "    '''Convertidor de escala de temperatura\n",
    "    La función convierte el valor de temperatura de una escala de origen a una escala de destino.\n",
    "    Utiliza grados Celsius, Farenheit y Kelvin.\n",
    "    Los parámetros son:\n",
    "        -temperatura (int): el valor númerico de la temperatura en la escala de origen\n",
    "        -escala_origen (str): la escala de origen de la temperatura a convertir. \"C\" corresponde a\n",
    "         Celsius, \"F\" a Farenheit y \"K\" a Kelvin. El valor por default es \"C\"\n",
    "        -escala_destino (str): la escala a convertir. \"C\" corresponde a\n",
    "         Celsius, \"F\" a Farenheit y \"K\" a Kelvin. El valor por default es \"F\"\n",
    "    '''\n",
    "    temperaturas = ['C', 'F', 'K']\n",
    "    if escala_origen not in temperaturas or escala_destino not in temperaturas:\n",
    "        print(\"Error en valores de escala. Ingrese un valor apropiado para las escalas:\")\n",
    "        print('\"C\" corresponde a Celsius, \"F\" a Farenheit y \"K\" a Kelvin')\n",
    "    else:\n",
    "        if escala_origen == escala_destino:\n",
    "            print(\"La escala de origen y la de destino no pueden ser iguales\")\n",
    "        else:\n",
    "            if type(temperatura) not in [int, float]:\n",
    "                print(\"El valor de temperatura debe ser de tipo int o float.\")\n",
    "            else:\n",
    "                if escala_origen == \"C\":\n",
    "                    if escala_destino == \"F\":\n",
    "                        # F = 9/5xC + 32 -> C=5/9x(F-32) (1)\n",
    "                        temperatura_out = temperatura*9/5 + 32\n",
    "                        print(\"El equivalente de\", temperatura, \"grados Celsius son\", \n",
    "                              temperatura_out,\"grados Farenheit\")\n",
    "                    if escala_destino == \"K\":\n",
    "                        # K = C + 273.15 -> C = K - 273.15 (2)\n",
    "                        temperatura_out = temperatura + 273.15\n",
    "                        print(\"El equivalente de\", temperatura, \"grados Celsius son\", \n",
    "                              temperatura_out,\"grados Kelvin\")\n",
    "                if escala_origen == \"F\":\n",
    "                    if escala_destino == \"C\":\n",
    "                        temperatura_out = (temperatura-32)*5/9\n",
    "                        print(\"El equivalente de\", temperatura, \"grados Farenheit son\", \n",
    "                              temperatura_out,\"grados Celsius\")\n",
    "                    if escala_destino == \"K\":\n",
    "                        # De (1) y (2) \n",
    "                        #       K = (F-32)*5/9 + 273.15 (3)\n",
    "                        #       F = (K - 273.15)*9/5 + 32 (4)\n",
    "                        temperatura_out = (temperatura - 32)*5/9 + 273.15\n",
    "                        print(\"El equivalente de\", temperatura, \"grados Farenheit son\", \n",
    "                              temperatura_out,\"grados Kelvin\")\n",
    "                if escala_origen == \"K\":\n",
    "                    if escala_destino == \"C\":\n",
    "                        temperatura_out = temperatura - 273.15\n",
    "                        print(\"El equivalente de\", temperatura, \"grados Kelvin son\", \n",
    "                              temperatura_out,\"grados Celsius\")\n",
    "                    if escala_destino == \"F\":\n",
    "                        temperatura_out = (temperatura- 273.15)*9/5 + 32\n",
    "                        print(\"El equivalente de\", temperatura, \"grados Kelvin son\", \n",
    "                              temperatura_out,\"grados Farenheit\")\n",
    "                \n",
    "                return(temperatura_out)      \n",
    "\n",
    "convertidor_temp(20, \"C\", \"K\")\n",
    "\n"
   ]
  },
  {
   "attachments": {},
   "cell_type": "markdown",
   "metadata": {},
   "source": [
    "5) Iterando una lista con los tres valores posibles de temperatura que recibe la función del punto 5, hacer un print para cada combinación de los mismos:"
   ]
  },
  {
   "cell_type": "code",
   "execution_count": 30,
   "metadata": {},
   "outputs": [
    {
     "name": "stdout",
     "output_type": "stream",
     "text": [
      "El equivalente de 0 grados Celsius son 32.0 grados Farenheit\n",
      "El equivalente de 0 grados Celsius son 273.15 grados Kelvin\n",
      "El equivalente de 0 grados Farenheit son -17.77777777777778 grados Celsius\n",
      "El equivalente de 0 grados Farenheit son 255.3722222222222 grados Kelvin\n",
      "El equivalente de 0 grados Kelvin son -273.15 grados Celsius\n",
      "El equivalente de 0 grados Kelvin son -459.66999999999996 grados Farenheit\n"
     ]
    }
   ],
   "source": [
    "escalas = [\"C\", \"F\", \"K\"]\n",
    "\n",
    "for escala_1 in escalas:\n",
    "    for escala_2 in escalas:\n",
    "        if escala_1 != escala_2:\n",
    "            convertidor_temp(0, escala_1, escala_2)\n",
    "    "
   ]
  },
  {
   "attachments": {},
   "cell_type": "markdown",
   "metadata": {},
   "source": [
    "6) Armar una función que devuelva el factorial de un número. Tener en cuenta que el usuario puede equivocarse y enviar de parámetro un número no entero o negativo"
   ]
  },
  {
   "cell_type": "code",
   "execution_count": 47,
   "metadata": {},
   "outputs": [
    {
     "name": "stdout",
     "output_type": "stream",
     "text": [
      "El número debe ser positivo.\n"
     ]
    }
   ],
   "source": [
    "def factorial(numero):\n",
    "    if type(numero) != int:\n",
    "        print(\"El número debe ser entero.\")\n",
    "    elif numero < 0:\n",
    "        print(\"El número debe ser positivo.\")\n",
    "    else:\n",
    "        if numero>1:\n",
    "            numero = numero*factorial(numero-1)\n",
    "        return numero\n",
    "\n",
    "factorial(-1)"
   ]
  }
 ],
 "metadata": {
  "interpreter": {
   "hash": "c85384e4cb51c8b72350f3a8712cc8351fdc3955e32a27f9b60c6242ab125f01"
  },
  "kernelspec": {
   "display_name": "Python 3 (ipykernel)",
   "language": "python",
   "name": "python3"
  },
  "language_info": {
   "codemirror_mode": {
    "name": "ipython",
    "version": 3
   },
   "file_extension": ".py",
   "mimetype": "text/x-python",
   "name": "python",
   "nbconvert_exporter": "python",
   "pygments_lexer": "ipython3",
   "version": "3.10.4"
  }
 },
 "nbformat": 4,
 "nbformat_minor": 4
}
